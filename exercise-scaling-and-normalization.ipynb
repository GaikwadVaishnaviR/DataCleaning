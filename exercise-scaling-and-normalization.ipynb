{
 "cells": [
  {
   "cell_type": "markdown",
   "id": "17418f6c",
   "metadata": {
    "papermill": {
     "duration": 0.016624,
     "end_time": "2022-01-14T16:30:15.084479",
     "exception": false,
     "start_time": "2022-01-14T16:30:15.067855",
     "status": "completed"
    },
    "tags": []
   },
   "source": [
    "**This notebook is an exercise in the [Data Cleaning](https://www.kaggle.com/learn/data-cleaning) course.  You can reference the tutorial at [this link](https://www.kaggle.com/alexisbcook/scaling-and-normalization).**\n",
    "\n",
    "---\n"
   ]
  },
  {
   "cell_type": "markdown",
   "id": "9a1d0bed",
   "metadata": {
    "papermill": {
     "duration": 0.01533,
     "end_time": "2022-01-14T16:30:15.117309",
     "exception": false,
     "start_time": "2022-01-14T16:30:15.101979",
     "status": "completed"
    },
    "tags": []
   },
   "source": [
    "In this exercise, you'll apply what you learned in the **Scaling and normalization** tutorial.\n",
    "\n",
    "# Setup\n",
    "\n",
    "The questions below will give you feedback on your work. Run the following cell to set up the feedback system."
   ]
  },
  {
   "cell_type": "code",
   "execution_count": 1,
   "id": "33eaed3b",
   "metadata": {
    "execution": {
     "iopub.execute_input": "2022-01-14T16:30:15.153227Z",
     "iopub.status.busy": "2022-01-14T16:30:15.152006Z",
     "iopub.status.idle": "2022-01-14T16:30:18.725909Z",
     "shell.execute_reply": "2022-01-14T16:30:18.725067Z",
     "shell.execute_reply.started": "2022-01-14T16:11:24.181674Z"
    },
    "papermill": {
     "duration": 3.593315,
     "end_time": "2022-01-14T16:30:18.726149",
     "exception": false,
     "start_time": "2022-01-14T16:30:15.132834",
     "status": "completed"
    },
    "tags": []
   },
   "outputs": [
    {
     "name": "stdout",
     "output_type": "stream",
     "text": [
      "Setup Complete\n"
     ]
    }
   ],
   "source": [
    "from learntools.core import binder\n",
    "binder.bind(globals())\n",
    "from learntools.data_cleaning.ex2 import *\n",
    "print(\"Setup Complete\")"
   ]
  },
  {
   "cell_type": "markdown",
   "id": "c4731af1",
   "metadata": {
    "papermill": {
     "duration": 0.015855,
     "end_time": "2022-01-14T16:30:18.758424",
     "exception": false,
     "start_time": "2022-01-14T16:30:18.742569",
     "status": "completed"
    },
    "tags": []
   },
   "source": [
    "# Get our environment set up\n",
    "\n",
    "To practice scaling and normalization, we're going to use a [dataset of Kickstarter campaigns](https://www.kaggle.com/kemical/kickstarter-projects). (Kickstarter is a website where people can ask people to invest in various projects and concept products.)\n",
    "\n",
    "The next code cell loads in the libraries and dataset we'll be using. "
   ]
  },
  {
   "cell_type": "code",
   "execution_count": 2,
   "id": "dd713ff3",
   "metadata": {
    "execution": {
     "iopub.execute_input": "2022-01-14T16:30:18.796799Z",
     "iopub.status.busy": "2022-01-14T16:30:18.796126Z",
     "iopub.status.idle": "2022-01-14T16:30:20.335663Z",
     "shell.execute_reply": "2022-01-14T16:30:20.335015Z",
     "shell.execute_reply.started": "2022-01-14T16:11:32.337669Z"
    },
    "papermill": {
     "duration": 1.561647,
     "end_time": "2022-01-14T16:30:20.335821",
     "exception": false,
     "start_time": "2022-01-14T16:30:18.774174",
     "status": "completed"
    },
    "tags": []
   },
   "outputs": [],
   "source": [
    "# modules we'll use\n",
    "import pandas as pd\n",
    "import numpy as np\n",
    "\n",
    "# for Box-Cox Transformation\n",
    "from scipy import stats\n",
    "\n",
    "# for min_max scaling\n",
    "from mlxtend.preprocessing import minmax_scaling\n",
    "\n",
    "# plotting modules\n",
    "import seaborn as sns\n",
    "import matplotlib.pyplot as plt\n",
    "\n",
    "# read in all our data\n",
    "kickstarters_2017 = pd.read_csv(\"../input/kickstarter-projects/ks-projects-201801.csv\")\n",
    "\n",
    "# set seed for reproducibility\n",
    "np.random.seed(0)"
   ]
  },
  {
   "cell_type": "markdown",
   "id": "eba6fc76",
   "metadata": {
    "papermill": {
     "duration": 0.015956,
     "end_time": "2022-01-14T16:30:20.367581",
     "exception": false,
     "start_time": "2022-01-14T16:30:20.351625",
     "status": "completed"
    },
    "tags": []
   },
   "source": [
    "Let's start by scaling the goals of each campaign, which is how much money they were asking for.  After scaling, all values lie between 0 and 1."
   ]
  },
  {
   "cell_type": "code",
   "execution_count": 3,
   "id": "b807380b",
   "metadata": {
    "execution": {
     "iopub.execute_input": "2022-01-14T16:30:20.403556Z",
     "iopub.status.busy": "2022-01-14T16:30:20.402834Z",
     "iopub.status.idle": "2022-01-14T16:30:20.439791Z",
     "shell.execute_reply": "2022-01-14T16:30:20.439228Z",
     "shell.execute_reply.started": "2022-01-14T16:11:39.758911Z"
    },
    "papermill": {
     "duration": 0.056743,
     "end_time": "2022-01-14T16:30:20.439930",
     "exception": false,
     "start_time": "2022-01-14T16:30:20.383187",
     "status": "completed"
    },
    "tags": []
   },
   "outputs": [
    {
     "name": "stdout",
     "output_type": "stream",
     "text": [
      "Original data\n",
      "Preview:\n",
      "    usd_goal_real\n",
      "0        1533.95\n",
      "1       30000.00\n",
      "2       45000.00\n",
      "3        5000.00\n",
      "4       19500.00\n",
      "Minimum value: 0.01 \n",
      "Maximum value: 166361390.71\n",
      "______________________________\n",
      "\n",
      "Scaled data\n",
      "Preview:\n",
      "    usd_goal_real\n",
      "0       0.000009\n",
      "1       0.000180\n",
      "2       0.000270\n",
      "3       0.000030\n",
      "4       0.000117\n",
      "Minimum value: 0.0 \n",
      "Maximum value: 1.0\n"
     ]
    }
   ],
   "source": [
    "# select the usd_goal_real column\n",
    "original_data = pd.DataFrame(kickstarters_2017.usd_goal_real)\n",
    "\n",
    "# scale the goals from 0 to 1\n",
    "scaled_data = minmax_scaling(original_data, columns=['usd_goal_real'])\n",
    "\n",
    "print('Original data\\nPreview:\\n', original_data.head())\n",
    "print('Minimum value:', float(original_data.min()),\n",
    "      '\\nMaximum value:', float(original_data.max()))\n",
    "print('_'*30)\n",
    "\n",
    "print('\\nScaled data\\nPreview:\\n', scaled_data.head())\n",
    "print('Minimum value:', float(scaled_data.min()),\n",
    "      '\\nMaximum value:', float(scaled_data.max()))"
   ]
  },
  {
   "cell_type": "markdown",
   "id": "d8be87b5",
   "metadata": {
    "papermill": {
     "duration": 0.015584,
     "end_time": "2022-01-14T16:30:20.471926",
     "exception": false,
     "start_time": "2022-01-14T16:30:20.456342",
     "status": "completed"
    },
    "tags": []
   },
   "source": [
    "# 1) Practice scaling\n",
    "\n",
    "We just scaled the \"usd_goal_real\" column. What about the \"goal\" column?\n",
    "\n",
    "Begin by running the code cell below to create a DataFrame `original_goal_data` containing the \"goal\" column."
   ]
  },
  {
   "cell_type": "code",
   "execution_count": 4,
   "id": "cab72c64",
   "metadata": {
    "execution": {
     "iopub.execute_input": "2022-01-14T16:30:20.509802Z",
     "iopub.status.busy": "2022-01-14T16:30:20.508913Z",
     "iopub.status.idle": "2022-01-14T16:30:20.512574Z",
     "shell.execute_reply": "2022-01-14T16:30:20.512081Z",
     "shell.execute_reply.started": "2022-01-14T16:11:49.430380Z"
    },
    "papermill": {
     "duration": 0.024903,
     "end_time": "2022-01-14T16:30:20.512712",
     "exception": false,
     "start_time": "2022-01-14T16:30:20.487809",
     "status": "completed"
    },
    "tags": []
   },
   "outputs": [],
   "source": [
    "# select the usd_goal_real column\n",
    "original_goal_data = pd.DataFrame(kickstarters_2017.goal)"
   ]
  },
  {
   "cell_type": "markdown",
   "id": "f67f540a",
   "metadata": {
    "papermill": {
     "duration": 0.015791,
     "end_time": "2022-01-14T16:30:20.544775",
     "exception": false,
     "start_time": "2022-01-14T16:30:20.528984",
     "status": "completed"
    },
    "tags": []
   },
   "source": [
    "Use `original_goal_data` to create a new DataFrame `scaled_goal_data` with values scaled between 0 and 1. You must use the `minmax_scaling()` function."
   ]
  },
  {
   "cell_type": "code",
   "execution_count": 5,
   "id": "5652a270",
   "metadata": {
    "execution": {
     "iopub.execute_input": "2022-01-14T16:30:20.583108Z",
     "iopub.status.busy": "2022-01-14T16:30:20.582363Z",
     "iopub.status.idle": "2022-01-14T16:30:20.608597Z",
     "shell.execute_reply": "2022-01-14T16:30:20.609134Z",
     "shell.execute_reply.started": "2022-01-14T16:12:00.986426Z"
    },
    "papermill": {
     "duration": 0.04798,
     "end_time": "2022-01-14T16:30:20.609316",
     "exception": false,
     "start_time": "2022-01-14T16:30:20.561336",
     "status": "completed"
    },
    "tags": []
   },
   "outputs": [
    {
     "data": {
      "application/javascript": [
       "parent.postMessage({\"jupyterEvent\": \"custom.exercise_interaction\", \"data\": {\"outcomeType\": 1, \"valueTowardsCompletion\": 0.3333333333333333, \"interactionType\": 1, \"questionType\": 1, \"questionId\": \"1_TryScaling\", \"learnToolsVersion\": \"0.3.4\", \"failureMessage\": \"\", \"exceptionClass\": \"\", \"trace\": \"\"}}, \"*\")"
      ],
      "text/plain": [
       "<IPython.core.display.Javascript object>"
      ]
     },
     "metadata": {},
     "output_type": "display_data"
    },
    {
     "data": {
      "text/markdown": [
       "<span style=\"color:#33cc33\">Correct</span>"
      ],
      "text/plain": [
       "Correct"
      ]
     },
     "metadata": {},
     "output_type": "display_data"
    }
   ],
   "source": [
    "# TODO: Your code here\n",
    "scaled_goal_data = minmax_scaling(original_goal_data, columns=['goal'])\n",
    "\n",
    "# Check your answer\n",
    "q1.check()"
   ]
  },
  {
   "cell_type": "code",
   "execution_count": 6,
   "id": "5333646b",
   "metadata": {
    "execution": {
     "iopub.execute_input": "2022-01-14T16:30:20.649437Z",
     "iopub.status.busy": "2022-01-14T16:30:20.648578Z",
     "iopub.status.idle": "2022-01-14T16:30:20.651492Z",
     "shell.execute_reply": "2022-01-14T16:30:20.650935Z",
     "shell.execute_reply.started": "2022-01-14T16:07:28.749502Z"
    },
    "papermill": {
     "duration": 0.02446,
     "end_time": "2022-01-14T16:30:20.651638",
     "exception": false,
     "start_time": "2022-01-14T16:30:20.627178",
     "status": "completed"
    },
    "tags": []
   },
   "outputs": [],
   "source": [
    "# Lines below will give you a hint or solution code\n",
    "#q1.hint()\n",
    "#q1.solution()"
   ]
  },
  {
   "cell_type": "markdown",
   "id": "ce693b4e",
   "metadata": {
    "papermill": {
     "duration": 0.016779,
     "end_time": "2022-01-14T16:30:20.685654",
     "exception": false,
     "start_time": "2022-01-14T16:30:20.668875",
     "status": "completed"
    },
    "tags": []
   },
   "source": [
    "# 2) Practice normalization\n",
    "\n",
    "Now you'll practice normalization. We begin by normalizing the amount of money pledged to each campaign."
   ]
  },
  {
   "cell_type": "code",
   "execution_count": 7,
   "id": "a89f1886",
   "metadata": {
    "execution": {
     "iopub.execute_input": "2022-01-14T16:30:20.733352Z",
     "iopub.status.busy": "2022-01-14T16:30:20.725700Z",
     "iopub.status.idle": "2022-01-14T16:30:20.957146Z",
     "shell.execute_reply": "2022-01-14T16:30:20.956607Z",
     "shell.execute_reply.started": "2022-01-14T16:12:53.263175Z"
    },
    "papermill": {
     "duration": 0.253825,
     "end_time": "2022-01-14T16:30:20.957293",
     "exception": false,
     "start_time": "2022-01-14T16:30:20.703468",
     "status": "completed"
    },
    "tags": []
   },
   "outputs": [
    {
     "name": "stdout",
     "output_type": "stream",
     "text": [
      "Original data\n",
      "Preview:\n",
      " 1     2421.0\n",
      "2      220.0\n",
      "3        1.0\n",
      "4     1283.0\n",
      "5    52375.0\n",
      "Name: usd_pledged_real, dtype: float64\n",
      "Minimum value: 0.45 \n",
      "Maximum value: 20338986.27\n",
      "______________________________\n",
      "\n",
      "Normalized data\n",
      "Preview:\n",
      " 1    10.165142\n",
      "2     6.468598\n",
      "3     0.000000\n",
      "4     9.129277\n",
      "5    15.836853\n",
      "Name: usd_pledged_real, dtype: float64\n",
      "Minimum value: -0.7779954122762203 \n",
      "Maximum value: 30.69054020451361\n"
     ]
    }
   ],
   "source": [
    "# get the index of all positive pledges (Box-Cox only takes positive values)\n",
    "index_of_positive_pledges = kickstarters_2017.usd_pledged_real > 0\n",
    "\n",
    "# get only positive pledges (using their indexes)\n",
    "positive_pledges = kickstarters_2017.usd_pledged_real.loc[index_of_positive_pledges]\n",
    "\n",
    "# normalize the pledges (w/ Box-Cox)\n",
    "normalized_pledges = pd.Series(stats.boxcox(positive_pledges)[0], \n",
    "                               name='usd_pledged_real', index=positive_pledges.index)\n",
    "\n",
    "print('Original data\\nPreview:\\n', positive_pledges.head())\n",
    "print('Minimum value:', float(positive_pledges.min()),\n",
    "      '\\nMaximum value:', float(positive_pledges.max()))\n",
    "print('_'*30)\n",
    "\n",
    "print('\\nNormalized data\\nPreview:\\n', normalized_pledges.head())\n",
    "print('Minimum value:', float(normalized_pledges.min()),\n",
    "      '\\nMaximum value:', float(normalized_pledges.max()))"
   ]
  },
  {
   "cell_type": "markdown",
   "id": "7b542950",
   "metadata": {
    "papermill": {
     "duration": 0.017118,
     "end_time": "2022-01-14T16:30:20.992092",
     "exception": false,
     "start_time": "2022-01-14T16:30:20.974974",
     "status": "completed"
    },
    "tags": []
   },
   "source": [
    "The values have changed significantly with normalization!\n",
    "\n",
    "In the next code cell, you'll take a look at the distribution of the normalized data, where it should now resemble a normal distribution."
   ]
  },
  {
   "cell_type": "code",
   "execution_count": 8,
   "id": "60e714ec",
   "metadata": {
    "execution": {
     "iopub.execute_input": "2022-01-14T16:30:21.032236Z",
     "iopub.status.busy": "2022-01-14T16:30:21.031561Z",
     "iopub.status.idle": "2022-01-14T16:30:23.141309Z",
     "shell.execute_reply": "2022-01-14T16:30:23.141922Z",
     "shell.execute_reply.started": "2022-01-14T16:13:00.250963Z"
    },
    "papermill": {
     "duration": 2.132509,
     "end_time": "2022-01-14T16:30:23.142106",
     "exception": false,
     "start_time": "2022-01-14T16:30:21.009597",
     "status": "completed"
    },
    "tags": []
   },
   "outputs": [
    {
     "data": {
      "image/png": "[encoded data removed]",
      "text/plain": [
       "<Figure size 432x288 with 1 Axes>"
      ]
     },
     "metadata": {
      "needs_background": "light"
     },
     "output_type": "display_data"
    }
   ],
   "source": [
    "# plot normalized data\n",
    "ax = sns.histplot(normalized_pledges, kde=True)\n",
    "ax.set_title(\"Normalized data\")\n",
    "plt.show()"
   ]
  },
  {
   "cell_type": "markdown",
   "id": "7ca70d09",
   "metadata": {
    "papermill": {
     "duration": 0.018219,
     "end_time": "2022-01-14T16:30:23.178873",
     "exception": false,
     "start_time": "2022-01-14T16:30:23.160654",
     "status": "completed"
    },
    "tags": []
   },
   "source": [
    "We used the \"usd_pledged_real\" column. Follow the same process to normalize the \"pledged\" column. "
   ]
  },
  {
   "cell_type": "code",
   "execution_count": 9,
   "id": "51537979",
   "metadata": {
    "execution": {
     "iopub.execute_input": "2022-01-14T16:30:23.225430Z",
     "iopub.status.busy": "2022-01-14T16:30:23.224717Z",
     "iopub.status.idle": "2022-01-14T16:30:25.680918Z",
     "shell.execute_reply": "2022-01-14T16:30:25.680281Z",
     "shell.execute_reply.started": "2022-01-14T16:20:22.052332Z"
    },
    "papermill": {
     "duration": 2.48323,
     "end_time": "2022-01-14T16:30:25.681080",
     "exception": false,
     "start_time": "2022-01-14T16:30:23.197850",
     "status": "completed"
    },
    "tags": []
   },
   "outputs": [
    {
     "name": "stdout",
     "output_type": "stream",
     "text": [
      "Original data\n",
      "Preview:\n",
      " 1     2421.0\n",
      "2      220.0\n",
      "3        1.0\n",
      "4     1283.0\n",
      "5    52375.0\n",
      "Name: pledged, dtype: float64\n",
      "Minimum value: 1.0 \n",
      "Maximum value: 20338986.27\n",
      "______________________________\n",
      "\n",
      "Normalized data\n",
      "Preview:\n",
      " 1    10.013887\n",
      "2     6.403367\n",
      "3     0.000000\n",
      "4     9.005193\n",
      "5    15.499596\n",
      "Name: pleged, dtype: float64\n",
      "Minimum value: 0.0 \n",
      "Maximum value: 29.63030787418848\n"
     ]
    },
    {
     "data": {
      "image/png": "[encoded data removed]",
      "text/plain": [
       "<Figure size 432x288 with 1 Axes>"
      ]
     },
     "metadata": {
      "needs_background": "light"
     },
     "output_type": "display_data"
    }
   ],
   "source": [
    "# TODO: Your code here!\n",
    "index_of_positive_pledges = kickstarters_2017.pledged > 0\n",
    "\n",
    "# get only positive pledges (using their indexes)\n",
    "positive_pledges = kickstarters_2017.pledged.loc[index_of_positive_pledges]\n",
    "\n",
    "# normalize the pledges (w/ Box-Cox)\n",
    "normalized_pledges = pd.Series(stats.boxcox(positive_pledges)[0], \n",
    "                               name='pleged', index=positive_pledges.index)\n",
    "\n",
    "print('Original data\\nPreview:\\n', positive_pledges.head())\n",
    "print('Minimum value:', float(positive_pledges.min()),\n",
    "      '\\nMaximum value:', float(positive_pledges.max()))\n",
    "print('_'*30)\n",
    "\n",
    "print('\\nNormalized data\\nPreview:\\n', normalized_pledges.head())\n",
    "print('Minimum value:', float(normalized_pledges.min()),\n",
    "      '\\nMaximum value:', float(normalized_pledges.max()))\n",
    "\n",
    "ax1 = sns.histplot(normalized_pledges, kde=True)\n",
    "ax1.set_title(\"Normalized data\")\n",
    "plt.show()\n"
   ]
  },
  {
   "cell_type": "markdown",
   "id": "511fc22a",
   "metadata": {
    "papermill": {
     "duration": 0.020709,
     "end_time": "2022-01-14T16:30:25.721609",
     "exception": false,
     "start_time": "2022-01-14T16:30:25.700900",
     "status": "completed"
    },
    "tags": []
   },
   "source": [
    "How does the normalized \"usd_pledged_real\" column look different from when we normalized the \"pledged\" column?  Or, do they look mostly the same?\n",
    "\n",
    "Once you have an answer, run the code cell below."
   ]
  },
  {
   "cell_type": "code",
   "execution_count": 10,
   "id": "49290bbf",
   "metadata": {
    "execution": {
     "iopub.execute_input": "2022-01-14T16:30:25.768307Z",
     "iopub.status.busy": "2022-01-14T16:30:25.767561Z",
     "iopub.status.idle": "2022-01-14T16:30:25.772302Z",
     "shell.execute_reply": "2022-01-14T16:30:25.772753Z",
     "shell.execute_reply.started": "2022-01-14T16:20:41.877066Z"
    },
    "papermill": {
     "duration": 0.029842,
     "end_time": "2022-01-14T16:30:25.772925",
     "exception": false,
     "start_time": "2022-01-14T16:30:25.743083",
     "status": "completed"
    },
    "tags": []
   },
   "outputs": [
    {
     "data": {
      "application/javascript": [
       "parent.postMessage({\"jupyterEvent\": \"custom.exercise_interaction\", \"data\": {\"outcomeType\": 1, \"valueTowardsCompletion\": 0.3333333333333333, \"interactionType\": 1, \"questionType\": 4, \"questionId\": \"2_TryNormalization\", \"learnToolsVersion\": \"0.3.4\", \"failureMessage\": \"\", \"exceptionClass\": \"\", \"trace\": \"\"}}, \"*\")"
      ],
      "text/plain": [
       "<IPython.core.display.Javascript object>"
      ]
     },
     "metadata": {},
     "output_type": "display_data"
    },
    {
     "data": {
      "text/markdown": [
       "<span style=\"color:#33cc33\">Correct:</span> \n",
       "\n",
       "The distributions in the normalized data look mostly the same."
      ],
      "text/plain": [
       "Correct: \n",
       "\n",
       "The distributions in the normalized data look mostly the same."
      ]
     },
     "metadata": {},
     "output_type": "display_data"
    }
   ],
   "source": [
    "# Check your answer (Run this code cell to receive credit!)\n",
    "q2.check()"
   ]
  },
  {
   "cell_type": "code",
   "execution_count": 11,
   "id": "7bee9334",
   "metadata": {
    "execution": {
     "iopub.execute_input": "2022-01-14T16:30:25.818056Z",
     "iopub.status.busy": "2022-01-14T16:30:25.817432Z",
     "iopub.status.idle": "2022-01-14T16:30:25.820081Z",
     "shell.execute_reply": "2022-01-14T16:30:25.820524Z"
    },
    "papermill": {
     "duration": 0.027058,
     "end_time": "2022-01-14T16:30:25.820692",
     "exception": false,
     "start_time": "2022-01-14T16:30:25.793634",
     "status": "completed"
    },
    "tags": []
   },
   "outputs": [],
   "source": [
    "# Line below will give you a hint\n",
    "#q2.hint()"
   ]
  },
  {
   "cell_type": "markdown",
   "id": "5e95a7ba",
   "metadata": {
    "papermill": {
     "duration": 0.020306,
     "end_time": "2022-01-14T16:30:25.861805",
     "exception": false,
     "start_time": "2022-01-14T16:30:25.841499",
     "status": "completed"
    },
    "tags": []
   },
   "source": [
    "# (Optional) More practice\n",
    "\n",
    "Try finding a new dataset and pretend you're preparing to perform a [regression analysis](https://www.kaggle.com/rtatman/the-5-day-regression-challenge). \n",
    "\n",
    "[These datasets are a good start!](https://www.kaggle.com/rtatman/datasets-for-regression-analysis)\n",
    "\n",
    "Pick three or four variables and decide if you need to normalize or scale any of them and, if you think you should, practice applying the correct technique.\n",
    "\n",
    "# Keep going\n",
    "\n",
    "In the next lesson, learn how to [**parse dates**](https://www.kaggle.com/alexisbcook/parsing-dates) in a dataset."
   ]
  },
  {
   "cell_type": "markdown",
   "id": "e62953e5",
   "metadata": {
    "papermill": {
     "duration": 0.020433,
     "end_time": "2022-01-14T16:30:25.902935",
     "exception": false,
     "start_time": "2022-01-14T16:30:25.882502",
     "status": "completed"
    },
    "tags": []
   },
   "source": [
    "---\n",
    "\n",
    "\n",
    "\n",
    "\n",
    "*Have questions or comments? Visit the [course discussion forum](https://www.kaggle.com/learn/data-cleaning/discussion) to chat with other learners.*"
   ]
  }
 ],
 "metadata": {
  "kernelspec": {
   "display_name": "Python 3",
   "language": "python",
   "name": "python3"
  },
  "language_info": {
   "codemirror_mode": {
    "name": "ipython",
    "version": 3
   },
   "file_extension": ".py",
   "mimetype": "text/x-python",
   "name": "python",
   "nbconvert_exporter": "python",
   "pygments_lexer": "ipython3",
   "version": "3.7.12"
  },
  "papermill": {
   "default_parameters": {},
   "duration": 21.995095,
   "end_time": "2022-01-14T16:30:26.735012",
   "environment_variables": {},
   "exception": null,
   "input_path": "__notebook__.ipynb",
   "output_path": "__notebook__.ipynb",
   "parameters": {},
   "start_time": "2022-01-14T16:30:04.739917",
   "version": "2.3.3"
  }
 },
 "nbformat": 4,
 "nbformat_minor": 5
}
